{
 "cells": [
  {
   "cell_type": "code",
   "execution_count": 2,
   "id": "9e65bcc1",
   "metadata": {},
   "outputs": [],
   "source": [
    "import pandas as pd"
   ]
  },
  {
   "cell_type": "markdown",
   "id": "26b1d164",
   "metadata": {},
   "source": [
    "创建一个DataFrame的数据表格"
   ]
  },
  {
   "cell_type": "code",
   "execution_count": null,
   "id": "817a3d85",
   "metadata": {},
   "outputs": [],
   "source": [
    "#这样创建数据要求，数据长度一样\n",
    "#因为是列表，所以会有行索引，这里行索引默认从0开始排序\n",
    "data = pd.DataFrame({\n",
    "    \"yes\":[50,60,40,80],\n",
    "    \"no\":[10,20,30,40]\n",
    "})\n",
    "print(data)\n",
    "\n",
    "\n",
    "#在创建DataFrame时，可以指定行索引\n",
    "data = pd.DataFrame({\n",
    "    \"yes\":[50,60,40,80],\n",
    "    \"no\":[10,20,30,40]\n",
    "}, index=[\"a\",\"b\",\"c\",\"d\"])#这里的index参数指定了行索引\n",
    "print(data)"
   ]
  },
  {
   "cell_type": "markdown",
   "id": "b1c7e969",
   "metadata": {},
   "source": [
    "创建一个列表"
   ]
  },
  {
   "cell_type": "code",
   "execution_count": null,
   "id": "02fd09c4",
   "metadata": {},
   "outputs": [],
   "source": [
    "data = pd.Series([1,2,3,4])\n",
    "print(data) \n",
    "\n",
    "#Series是一个一维的数据结构，类似于列表，但有索引,并且有一个整体的name\n",
    "#可以通过索引访问数据   \n",
    "data = pd.Series([1,2,3,4], index=[\"a\",\"b\",\"c\",\"d\"],name = \"nihao\")#这里的index参数指定了索引\n",
    "print(data)"
   ]
  },
  {
   "cell_type": "markdown",
   "id": "545cb673",
   "metadata": {},
   "source": [
    "读取csv数据"
   ]
  },
  {
   "cell_type": "code",
   "execution_count": null,
   "id": "625e848a",
   "metadata": {},
   "outputs": [],
   "source": [
    "#这样读取的csv实际上还是DataFrame\n",
    "data = pd.read_csv(\"C:\\\\Users\\\\lenovo\\\\Downloads\\\\play_tennis_500.csv\")#读取csv数据\n",
    "data,type(data),data.shape"
   ]
  },
  {
   "cell_type": "code",
   "execution_count": null,
   "id": "e5879f80",
   "metadata": {},
   "outputs": [],
   "source": [
    "#查看前5行数据   #查看后5行数据\n",
    "data.head(),     data.tail()"
   ]
  },
  {
   "cell_type": "code",
   "execution_count": null,
   "id": "abac8087",
   "metadata": {},
   "outputs": [],
   "source": [
    "#在有的时候，csv数据中第一列就是索引，但是pands不能自动检测到这一点，还是会自动添加一行作为索引，所以我们可以指定第一行为索引\n",
    "#这时我们需要index_col=0参数\n",
    "#这里的0表示第一列\n",
    "#data = pd.read_csv(\"C:\\\\Users\\\\lenovo\\\\Downloads\\\\play_tennis_500.csv\", index_col=0)#读取csv数据，指定第一列为索引"
   ]
  },
  {
   "cell_type": "markdown",
   "id": "ebf77c13",
   "metadata": {},
   "source": [
    "访问DataFrame中的数据\n",
    "\n",
    "iloc主要是使用整数位置索引\t\n",
    "\n",
    "loc主要是使用行/列的标签名（索引/列名）\n",
    "\n",
    "在选择或从 loc 和 iloc 之间切换时，有一个值得注意的\"陷阱\"，那就是这两种方法使用了略微不同的索引方案。\n",
    "\n",
    "iloc 切片像 Python：df.iloc[0:2] 包含第0、1行（不含2）\n",
    "\n",
    "loc 切片像 SQL：df.loc[100:101] 包含100和101行（包含尾部标签）"
   ]
  },
  {
   "cell_type": "code",
   "execution_count": null,
   "id": "94071bac",
   "metadata": {},
   "outputs": [],
   "source": [
    "#通过索引的方式，访问某一列的数据\n",
    "#通过这个输入也可以看出，每一列都是一个Series\n",
    "data[\"Temperature\"] , type(data[\"Temperature\"])"
   ]
  },
  {
   "cell_type": "code",
   "execution_count": null,
   "id": "32fd4624",
   "metadata": {},
   "outputs": [],
   "source": [
    "#通过更加规范的方式访问数据\n",
    "#访问某一行的元素\n",
    "data.iloc[0]   ,   data.loc[0]"
   ]
  },
  {
   "cell_type": "code",
   "execution_count": null,
   "id": "d47cd6fa",
   "metadata": {},
   "outputs": [],
   "source": [
    "#访问某一列元素\n",
    "#采用索引的方式，表示的就是，所有行的0列      #切片的方式，前3行的0列       #列表的方式，前三行0列\n",
    "data.iloc[:,0]                             , data.iloc[:3,0]          ,  data.iloc[[0,1,2],0]"
   ]
  },
  {
   "cell_type": "code",
   "execution_count": null,
   "id": "b326b576",
   "metadata": {},
   "outputs": [],
   "source": [
    "#访问某一特定元素             #访问多个元素\n",
    "data.loc[0,\"Temperature\"]   ,   data.loc[:,[\"Temperature\",\"Humidity\"]]"
   ]
  },
  {
   "cell_type": "markdown",
   "id": "567d899b",
   "metadata": {},
   "source": [
    "访问Series中的具体元素"
   ]
  },
  {
   "cell_type": "code",
   "execution_count": null,
   "id": "07f12ff3",
   "metadata": {},
   "outputs": [],
   "source": [
    "data[\"Temperature\"][0],type(data[\"Temperature\"][0])#访问Series中的具体元素\n"
   ]
  },
  {
   "cell_type": "markdown",
   "id": "abc491f1",
   "metadata": {},
   "source": [
    "#直接查看数据的整体信息"
   ]
  },
  {
   "cell_type": "code",
   "execution_count": null,
   "id": "3f00bfbe",
   "metadata": {},
   "outputs": [],
   "source": [
    "data.info()"
   ]
  },
  {
   "cell_type": "markdown",
   "id": "9e33a90f",
   "metadata": {},
   "source": [
    "设置新的行索引"
   ]
  },
  {
   "cell_type": "code",
   "execution_count": null,
   "id": "b2cd1056",
   "metadata": {},
   "outputs": [],
   "source": [
    "#inplace=True表示在原来的 DataFrame 上直接修改，而不是返回一个新副本\n",
    "#data.set_index(\"Temperature\", inplace=True)#这样操作后，原本的Temperature列就变成了行索引\n",
    "data.head()#查看修改后的数据"
   ]
  },
  {
   "cell_type": "markdown",
   "id": "06fb1ade",
   "metadata": {},
   "source": [
    "对数据进行提问(其实就是给出条件，判断满不满足，每一个元素满足，则对应行列为true)"
   ]
  },
  {
   "cell_type": "code",
   "execution_count": null,
   "id": "909646c6",
   "metadata": {},
   "outputs": [],
   "source": [
    "data.PlayTennis == \"Yes\",data.PlayTennis\n"
   ]
  },
  {
   "cell_type": "markdown",
   "id": "73e6e2c7",
   "metadata": {},
   "source": [
    "通过条件查找数据"
   ]
  },
  {
   "cell_type": "code",
   "execution_count": null,
   "id": "ba78040c",
   "metadata": {},
   "outputs": [],
   "source": [
    "#单条件                                    #多条件\n",
    "data.loc[data.PlayTennis == \"Yes\"]  ,      data.loc[(data.PlayTennis == \"Yes\") & (data.Humidity == \"High\")] "
   ]
  },
  {
   "cell_type": "code",
   "execution_count": null,
   "id": "8b77a4a0",
   "metadata": {},
   "outputs": [],
   "source": [
    "#两个内置的条件筛选函数\n",
    "#isin 允许你选择值在某个值列表中的数据,其实返回的数据和data.PlayTennis == \"Yes\"是一样的\n",
    "data.loc[data.PlayTennis.isin([\"Yes\"])]\n"
   ]
  },
  {
   "cell_type": "code",
   "execution_count": null,
   "id": "0e1a0860",
   "metadata": {},
   "outputs": [],
   "source": [
    "#第二个是 isnull （及其伙伴 notnull ）。这些方法允许你突出显示空值（或非空值） NaN\n",
    "#这两个函数实际上是返回的一个Series，Series的值是布尔值\n",
    "#所有 Temperature 列为 缺失值（NaN） 的行筛选出来；   所有 Temperature 列 不是缺失值（非 NaN） 的行也筛选出来\n",
    "data.loc[data.Temperature.isnull()] ,                data.loc[data.Temperature.notnull()]"
   ]
  },
  {
   "cell_type": "markdown",
   "id": "833e7af6",
   "metadata": {},
   "source": [
    "补全空值"
   ]
  },
  {
   "cell_type": "code",
   "execution_count": null,
   "id": "27039a9e",
   "metadata": {},
   "outputs": [],
   "source": [
    "data.Temperature.fillna(0, inplace=True)  #将Temperature列的缺失值填充为0"
   ]
  },
  {
   "cell_type": "markdown",
   "id": "3d274d52",
   "metadata": {},
   "source": [
    "访问列索引"
   ]
  },
  {
   "cell_type": "code",
   "execution_count": null,
   "id": "812c792d",
   "metadata": {},
   "outputs": [],
   "source": [
    "data.columns[0]"
   ]
  },
  {
   "cell_type": "markdown",
   "id": "61d8de1c",
   "metadata": {},
   "source": [
    "修改列表的数据"
   ]
  },
  {
   "cell_type": "code",
   "execution_count": null,
   "id": "c45770e2",
   "metadata": {},
   "outputs": [],
   "source": [
    "#修改某一列为一个元素\n",
    "data[\"PlayTennis\"] = \"Yes\" #将PlayTennis列的所有元素都修改为Yes\n",
    "data.iloc[:,-1]\n"
   ]
  },
  {
   "cell_type": "code",
   "execution_count": null,
   "id": "ccca1146",
   "metadata": {},
   "outputs": [],
   "source": [
    "#使用迭代对象修改某一列元素\n",
    "data[\"PlayTennis\"] = range(len(data))#将PlayTennis列的所有元素都修改为0,1,2,3,4,5,6,7,8,9...\n",
    "data.iloc[:,-1]"
   ]
  },
  {
   "cell_type": "code",
   "execution_count": null,
   "id": "9b8e865e",
   "metadata": {},
   "outputs": [],
   "source": [
    "type(data.loc[0:9,\"PlayTennis\"])#访问前10行的PlayTennis列\n"
   ]
  },
  {
   "cell_type": "code",
   "execution_count": null,
   "id": "28de6cdc",
   "metadata": {},
   "outputs": [],
   "source": [
    "#修改某一特定条件的所有的数据\n",
    " #将PlayTennis列中所有为Yes的元素修改为No\n",
    "#data.loc[data.PlayTennis == \"Yes\", \"PlayTennis\"] = \"No\" \n",
    "# 第一个是哪个值徐要修改，第二个是修改后的值   \n",
    "data.PlayTennis.replace(\"Yes\", \"No\", inplace=True) #使用replace方法也可以实现同样的效果"
   ]
  },
  {
   "cell_type": "markdown",
   "id": "6c455298",
   "metadata": {},
   "source": [
    "摘要函数"
   ]
  },
  {
   "cell_type": "code",
   "execution_count": null,
   "id": "a6dba470",
   "metadata": {},
   "outputs": [],
   "source": [
    "#describe() 会为 DataFrame 中的每个 数值型列（默认）生成 常见统计指标，比如平均数、标准差、最大值、最小值、四分位数等。\n",
    "#当然是针对数值类型的数据才会输出，非数值类型不输出\n",
    "data.describe() , data.loc[:,\"PlayTennis\"].describe()#PlayTennis列是非数值类型，所以不会输出\n"
   ]
  },
  {
   "cell_type": "code",
   "execution_count": null,
   "id": "6209681f",
   "metadata": {},
   "outputs": [],
   "source": [
    "#数值类型的一些操作\n",
    "data.PlayTennis.mean()#对数值类型的列求平均值\n",
    "data.PlayTennis.sum()#对数值类型的列求和\n",
    "data.PlayTennis.max()#对数值类型的列求最大值\n",
    "data.PlayTennis.min()#对数值类型的列求最小值\n",
    "data.PlayTennis.std()#对数值类型的列求标准差    \n",
    "data.PlayTennis.var()#对数值类型的列求方差\n",
    "data.PlayTennis.count()#对数值类型的列求计数\n",
    "data.PlayTennis.median()#对数值类型的列求中位数\n",
    "data.PlayTennis.idxmax()   # 返回最大值所在的行索引\n",
    "data.PlayTennis.nunique() #统计这一列有多少不重复的值"
   ]
  },
  {
   "cell_type": "code",
   "execution_count": null,
   "id": "4b283d46",
   "metadata": {},
   "outputs": [],
   "source": [
    "#公用的操作\n",
    "#返回唯一值,这个操作是针对Series的      #返回唯一值的计数\n",
    "data.Temperature.unique()       ,  data.Temperature.value_counts()"
   ]
  },
  {
   "cell_type": "markdown",
   "id": "03dcd7d2",
   "metadata": {},
   "source": [
    "映射"
   ]
  },
  {
   "cell_type": "code",
   "execution_count": null,
   "id": "54875e48",
   "metadata": {},
   "outputs": [],
   "source": [
    "data_playtennis_mean = data.PlayTennis.mean()#对数值类型的列求平均值\n",
    "\n",
    "#.map(func) 会将 func 应用于 Series 的每一个元素，返回一个新的 Series。\n",
    "data.PlayTennis.map(lambda x: x - data_playtennis_mean) #对PlayTennis列的每个元素加上平均值\n",
    "\n",
    "#还有一种替换数据更高效的用法\n",
    "#m = pd.Series()\n",
    "#data.PlayTennis.map(m)#只要行数对应上，这样就可以高效替换数据\n"
   ]
  },
  {
   "cell_type": "code",
   "execution_count": null,
   "id": "ac187a08",
   "metadata": {},
   "outputs": [],
   "source": [
    "#apply() 如果我们想通过在每一行上调用自定义方法来转换整个 DataFrame\n",
    "\n",
    "def fun(row):\n",
    "    row.PlayTennis = row.PlayTennis - data_playtennis_mean\n",
    "    return row\n",
    "\n",
    "\n",
    "data.apply(fun, axis=1) #对每一行应用fun函数，axis=1表示按行操作\n",
    "#如果是按列操作，axis=0"
   ]
  },
  {
   "cell_type": "markdown",
   "id": "dac426c7",
   "metadata": {},
   "source": [
    "分组操作"
   ]
  },
  {
   "cell_type": "code",
   "execution_count": null,
   "id": "d0630e6c",
   "metadata": {},
   "outputs": [],
   "source": [
    "#groupby() 的作用是：把DataFrame 根据某一列（或多列）相同的值进行“分组”，对每组进行聚合操作（如求和、计数、平均、最大值等）。\n",
    "#只分组意义不大，关键是配合上聚合函数使用\n",
    "data.groupby(\"Temperature\").PlayTennis.mean()#对Temperature列进行分组，求每组的平均值\n"
   ]
  },
  {
   "cell_type": "code",
   "execution_count": null,
   "id": "1cc7c146",
   "metadata": {},
   "outputs": [],
   "source": [
    "#多级分组\n",
    "a= data.groupby([\"Temperature\", \"Humidity\"]).PlayTennis.mean()#对Temperature和Humidity列进行分组，求每组的平均值\n",
    "mi = a.index\n",
    "#多级分组聚合后的数据Series                   #多级分组的索引               #将多级索引转换为普通列DataFrame\n",
    "a,                                      mi                       ,   a.reset_index()"
   ]
  },
  {
   "cell_type": "markdown",
   "id": "8765dcd0",
   "metadata": {},
   "source": [
    "一些有用的函数"
   ]
  },
  {
   "cell_type": "code",
   "execution_count": null,
   "id": "daf05d17",
   "metadata": {},
   "outputs": [],
   "source": [
    "#查看某一列的数据类型\n",
    "data.PlayTennis.dtype"
   ]
  },
  {
   "cell_type": "code",
   "execution_count": null,
   "id": "b074ef36",
   "metadata": {},
   "outputs": [],
   "source": [
    "#将某一列的数据类型转换为其他数据类型\n",
    "a = data.PlayTennis.astype(\"str\")   #将PlayTennis列的数据类型转换为字符串\n",
    "#效果等同于data.PlayTennis.map(str)  #将PlayTennis列的每个元素转换为字符串"
   ]
  },
  {
   "cell_type": "markdown",
   "id": "b068532f",
   "metadata": {},
   "source": [
    "合并两个DataFrame"
   ]
  },
  {
   "cell_type": "code",
   "execution_count": null,
   "id": "6aa7c40b",
   "metadata": {},
   "outputs": [],
   "source": [
    "\n",
    "person = pd.DataFrame({\n",
    "    \"personId\": [1, 2, 3],\n",
    "    \"name\": [\"Alice\", \"Bob\", \"Charlie\"]})\n",
    "address = pd.DataFrame({\n",
    "    \"personId\": [1, 2, 3],\n",
    "    \"address\": [\"123 Main St\", \"456 Maple Ave\", \"789 Oak Dr\"]})     \n",
    "\n",
    "#on参数指定了连接的列名，how参数指定了连接的方式\n",
    "#这里的how参数可以是\"left\", \"right\", \"outer\", \"inner\"\n",
    "'''\n",
    "how 方式\t说明\n",
    "\"inner\"\t只保留两个表中 都存在 的 personId(交集)\n",
    "\"left\"\t保留左表(person)中 所有行，右表中没有的用 NaN 填充\n",
    "\"right\"\t保留右表(address)中所有行\n",
    "\"outer\"\t两边都保留，不匹配的用 NaN 填充（并集）'''\n",
    "merged = pd.merge(person, address, on=\"personId\", how=\"left\")"
   ]
  },
  {
   "cell_type": "code",
   "execution_count": null,
   "id": "68282e1d",
   "metadata": {},
   "outputs": [],
   "source": [
    "#上面的方法是类似SQL的join操作，需要有主键的存在\n",
    "#如果没有主键，可以使用concat方法，这个拼接就是简单的将两个DataFrame按列或按行连接起来\n",
    "#只要维度方向（axis）正确，concat() 会自动对齐列名（或索引），不一致的部分会填 NaN。\n",
    "merged = pd.concat([person, address], axis=0)  #axis=1表示按列连接 #如果是按行连接，axis=0"
   ]
  },
  {
   "cell_type": "markdown",
   "id": "ead7e3eb",
   "metadata": {},
   "source": [
    "删除数据"
   ]
  },
  {
   "cell_type": "code",
   "execution_count": null,
   "id": "9fe58370",
   "metadata": {},
   "outputs": [],
   "source": [
    "\n",
    "#删除某一行                                #删除某一列                                                   \n",
    "merged.drop(index=1, inplace=True),        merged.drop(columns=\"address\", inplace=True) #删除address列   "
   ]
  },
  {
   "cell_type": "code",
   "execution_count": null,
   "id": "87558ec6",
   "metadata": {},
   "outputs": [],
   "source": [
    "#还有一种删除列的方法\n",
    "# axis=0: 删除行（按行索引标签） axis=1: 删除列（按列标签名）\n",
    "droplist = [\"personId\"]\n",
    "merged.drop(droplist,axis=1)"
   ]
  },
  {
   "cell_type": "code",
   "execution_count": null,
   "id": "7d882c07",
   "metadata": {},
   "outputs": [],
   "source": [
    "#删除对应数据的行\n",
    "merged = merged[merged.personId != 2] #删除personId为2的行"
   ]
  },
  {
   "cell_type": "code",
   "execution_count": null,
   "id": "598216c0",
   "metadata": {},
   "outputs": [],
   "source": [
    "#去除重复值#返回一个DataFrame并且把personId的重复值给删去\n",
    "merged = merged.personId.drop_duplicates()"
   ]
  },
  {
   "cell_type": "markdown",
   "id": "aa2ee8e1",
   "metadata": {},
   "source": [
    "独热编码"
   ]
  },
  {
   "cell_type": "code",
   "execution_count": null,
   "id": "27c2604f",
   "metadata": {},
   "outputs": [],
   "source": [
    "merged = pd.get_dummies(merged, columns=[\"name\"], prefix=[\"name\"])#独热编码\n",
    "#这里的columns参数指定了需要进行独热编码的列，prefix参数指定了独热编码后列的前缀\n",
    "#新列名 = prefix + \"_\" + 类别值\n",
    "#如果有一个值是空值，那么独热编码后，他的所有值都是0\n",
    "merged"
   ]
  },
  {
   "cell_type": "code",
   "execution_count": null,
   "id": "e6bf5d8a",
   "metadata": {},
   "outputs": [],
   "source": [
    "#可以把bool值转化为int\n",
    "#merged.name_Alice = merged.name_Alice.map(lambda x: int(x))\n",
    "merged.name_Alice = merged.name_Alice.astype(int)  #将name_Alice列的数据类型转换为整数\n",
    "merged"
   ]
  },
  {
   "cell_type": "markdown",
   "id": "d985eefb",
   "metadata": {},
   "source": [
    "划分数据(用于划分训练集和测试集使用)"
   ]
  },
  {
   "cell_type": "code",
   "execution_count": null,
   "id": "af6bb035",
   "metadata": {},
   "outputs": [],
   "source": [
    "test_size = 0.2\n",
    "#random_state 是随机数生成器的种子，它的作用是：\n",
    "#让“随机抽样的结果可以复现”，也就是说：每次运行这行代码，都能得到相同的抽样结果。\n",
    "#不设置 random_state，那么每次抽样的结果都可能不一样。\n",
    "#得到的 test_data 的索引仍然是 原始 DataFrame 中的索引值，只是被随机打乱了。\n",
    "#所以下面可以直接用drop来删除\n",
    "test_data = data.sample(frac=test_size,random_state=42)\n",
    "tran_data = data.drop(test_data.index)  "
   ]
  },
  {
   "cell_type": "code",
   "execution_count": null,
   "id": "4a8ed943",
   "metadata": {},
   "outputs": [],
   "source": []
  },
  {
   "cell_type": "markdown",
   "id": "dcb28f3a",
   "metadata": {},
   "source": [
    "透视\n",
    "可以理解成把数据集的指定行列做一次旋转"
   ]
  },
  {
   "cell_type": "code",
   "execution_count": null,
   "id": "1db95b94",
   "metadata": {},
   "outputs": [
    {
     "data": {
      "text/html": [
       "<div>\n",
       "<style scoped>\n",
       "    .dataframe tbody tr th:only-of-type {\n",
       "        vertical-align: middle;\n",
       "    }\n",
       "\n",
       "    .dataframe tbody tr th {\n",
       "        vertical-align: top;\n",
       "    }\n",
       "\n",
       "    .dataframe thead th {\n",
       "        text-align: right;\n",
       "    }\n",
       "</style>\n",
       "<table border=\"1\" class=\"dataframe\">\n",
       "  <thead>\n",
       "    <tr style=\"text-align: right;\">\n",
       "      <th>type</th>\n",
       "      <th>data</th>\n",
       "      <th>hour</th>\n",
       "      <th>A</th>\n",
       "      <th>B</th>\n",
       "    </tr>\n",
       "  </thead>\n",
       "  <tbody>\n",
       "    <tr>\n",
       "      <th>0</th>\n",
       "      <td>202001</td>\n",
       "      <td>0</td>\n",
       "      <td>10.0</td>\n",
       "      <td>NaN</td>\n",
       "    </tr>\n",
       "    <tr>\n",
       "      <th>1</th>\n",
       "      <td>202002</td>\n",
       "      <td>1</td>\n",
       "      <td>NaN</td>\n",
       "      <td>20.0</td>\n",
       "    </tr>\n",
       "  </tbody>\n",
       "</table>\n",
       "</div>"
      ],
      "text/plain": [
       "type    data  hour     A     B\n",
       "0     202001     0  10.0   NaN\n",
       "1     202002     1   NaN  20.0"
      ]
     },
     "execution_count": 6,
     "metadata": {},
     "output_type": "execute_result"
    }
   ],
   "source": [
    "#比如我们想把某个DataFrame的某一列作为索引，某一列作为对应的值就可以采用透视\n",
    "hhh = pd.DataFrame({\n",
    "    \"data\":[202001,202002],\n",
    "    \"hour\":[0,1],\n",
    "    \"type\": [\"A\", \"B\"],\n",
    "    \"value\":[10,20]\n",
    "})\n",
    "\n",
    "'''\n",
    "index=['date', 'hour']\n",
    "指定行索引键。每个 (date, hour) 组合在结果里成为一行（即 MultiIndex 的一条记录）。\n",
    "要求：对于同一个 (date, hour, type)，最多只能有一条记录；否则 pivot 会报错（因为一个格子不可能放两条值）\n",
    "\n",
    "columns='type'\n",
    "指定列索引键。type 的唯一取值（如 A,B)会变成结果表的列。\n",
    "\n",
    "values='value'\n",
    "指定填充值来源列。也可以给一个列表（如 values=['东四','西四'])，这时结果会得到分层列索引(MultiIndex columns),\n",
    "通常外层是你提供的 values 名称，内层是 type 的唯一值。\n",
    "'''\n",
    "ooo = hhh.pivot(index=[\"data\",\"hour\"], columns=\"type\", values=\"value\")#这里的index参数指定了行索引，columns参数指定了列索引，values参数指定了对应的值\n",
    "\n",
    "#排序并恢复普通列\n",
    "#sort_index() 是对行索引进行排序,就是前面设置的index=[\"data\",\"hour\"]\n",
    "#reset_index() 是将索引转换为普通列\n",
    "ooo = ooo.sort_index().reset_index()\n",
    "ooo"
   ]
  }
 ],
 "metadata": {
  "kernelspec": {
   "display_name": "pytorch",
   "language": "python",
   "name": "python3"
  },
  "language_info": {
   "codemirror_mode": {
    "name": "ipython",
    "version": 3
   },
   "file_extension": ".py",
   "mimetype": "text/x-python",
   "name": "python",
   "nbconvert_exporter": "python",
   "pygments_lexer": "ipython3",
   "version": "3.10.14"
  }
 },
 "nbformat": 4,
 "nbformat_minor": 5
}
